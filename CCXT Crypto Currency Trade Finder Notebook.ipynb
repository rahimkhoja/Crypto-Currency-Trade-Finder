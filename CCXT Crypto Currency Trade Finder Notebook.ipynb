{
 "cells": [
  {
   "cell_type": "markdown",
   "id": "e4b0bad2-769b-4836-851e-9f85516d9c35",
   "metadata": {},
   "source": [
    "# Crypto Trade Finder Notebook"
   ]
  },
  {
   "cell_type": "markdown",
   "id": "602252ea-4b19-4ff2-9ca1-dd4132de898f",
   "metadata": {
    "tags": []
   },
   "source": [
    "## Install Python Packages \n",
    "\n",
    "This code block is used to install two Python packages, 'ccxt' and 'pandas_ta', for use in the Jupyter Notebook. The '!pip install' command is used to upgrade the packages if they are already installed, or to install them if they are not. The '--upgrade' flag ensures that the packages are updated to the latest version."
   ]
  },
  {
   "cell_type": "code",
   "execution_count": null,
   "id": "35c91889",
   "metadata": {
    "tags": []
   },
   "outputs": [],
   "source": [
    "!pip install --upgrade ccxt pandas_ta"
   ]
  },
  {
   "cell_type": "markdown",
   "id": "82b66e74-b4df-4915-8c22-7a357031076d",
   "metadata": {},
   "source": [
    "## Import Python Libraries and Modules\n",
    "\n",
    "These code lines import various libraries and modules needed to perform cryptocurrency technical analysis. These include:\n",
    "\n",
    "    \"ccxt\" for fetching data from cryptocurrency exchanges\n",
    "    \"datetime\" for handling date and time values\n",
    "    \"math\" for mathematical operations\n",
    "    \"pandas\" for handling and analyzing data in tabular form\n",
    "    \"pandas_ta\" for performing technical analysis on financial data\n",
    "    \"numpy\" for numerical computations\n",
    "    \"matplotlib.pyplot\" for visualizing data and results\n",
    "    \"warnings\" for handling warning messages.\n",
    "\n",
    "These libraries are used in the subsequent code blocks to fetch cryptocurrency data, perform technical analysis on it, and visualize the results."
   ]
  },
  {
   "cell_type": "code",
   "execution_count": null,
   "id": "949742a3",
   "metadata": {},
   "outputs": [],
   "source": [
    "import ccxt\n",
    "from datetime import datetime, timedelta, timezone\n",
    "import math\n",
    "import pandas as pd\n",
    "import pandas_ta as ta\n",
    "import numpy as np\n",
    "import matplotlib.pyplot as plt\n",
    "import warnings\n",
    "from pandas.core.common import SettingWithCopyWarning\n",
    "warnings.simplefilter(action='ignore', category=FutureWarning)\n",
    "warnings.simplefilter(action='ignore', category=SettingWithCopyWarning)"
   ]
  },
  {
   "cell_type": "markdown",
   "id": "18fbb7f0-bef0-49ba-a011-3cb3277dad28",
   "metadata": {},
   "source": [
    "## Variables \n",
    "\n",
    "This section of the Jupyter Notebook sets the variables for the cryptocurrency market analysis. The following variables are defined:\n",
    "\n",
    "    MARKET: This variable specifies the cryptocurrency market to be analyzed, given as the trading pair (e.g. \"KDA/USDT\").\n",
    "    PERIOD: This variable specifies the time period for the analysis, given as either '1m' for one minute or '1h' for one hour.\n",
    "    EXCHGE: This variable specifies the exchange from which data will be fetched, given as the exchange's name (e.g. \"bittrex\").\n",
    "    profit_percent: This variable specifies the minimum profit percentage desired from the trade, given as a decimal value (e.g. 0.025 for 2.5%).\n",
    "    loss_percent: This variable specifies the maximum loss percentage desired from the trade, given as a decimal value (e.g. 0.025 for 2.5%).\n",
    "    max_count: This variable specifies the maximum number of trades to consider, given as an integer value (e.g. 24).\n",
    "    rsi_min: This variable specifies the minimum Relative Strength Index (RSI) value to consider, given as a decimal value (e.g. 40).\n",
    "\n",
    "To modify the analysis parameters, simply change the values of these variables to your desired values.\n"
   ]
  },
  {
   "cell_type": "code",
   "execution_count": null,
   "id": "503d5009",
   "metadata": {},
   "outputs": [],
   "source": [
    "MARKET=\"KDA/BUSD\"\n",
    "PERIOD=\"5m\" # '1m', 1h\n",
    "EXCHGE=\"binance\"\n",
    "profit_percent = float(0.025)\n",
    "loss_percent = float(0.025)\n",
    "max_count=24\n",
    "rsi_min=float(40)"
   ]
  },
  {
   "cell_type": "markdown",
   "id": "c2692ce2-c1ab-4a3d-9e6c-e92f56d1579d",
   "metadata": {},
   "source": [
    "## Pandas-TA Help (Optional Step)\n",
    "\n",
    "The code block provides information and documentation on the ta library, a technical analysis library for financial markets. The first line creates an empty DataFrame named df.\n",
    "\n",
    "The second line uses the help function to display information about the ta extension. The ta extension provides technical analysis functionality for financial data stored in a DataFrame.\n",
    "\n",
    "The third line uses the df.ta.indicators() method to list all the available technical indicators in the ta library.\n",
    "\n",
    "The last line uses the help function to display information about a specific technical indicator named bbands. The bbands function calculates Bollinger Bands, a type of moving average envelope used in technical analysis.\n"
   ]
  },
  {
   "cell_type": "code",
   "execution_count": null,
   "id": "9f7ba53c",
   "metadata": {
    "tags": []
   },
   "outputs": [],
   "source": [
    "# Help about this, 'ta', extension\n",
    "df = pd.DataFrame()\n",
    "help(df.ta)\n",
    "\n",
    "# List of all indicators\n",
    "df.ta.indicators()\n",
    "\n",
    "# Help about an indicator such as bbands\n",
    "help(ta.bbands)"
   ]
  },
  {
   "cell_type": "markdown",
   "id": "4e74c746-0e28-4d54-a04f-8053f0f1338b",
   "metadata": {},
   "source": [
    "## Get the Market Data\n",
    "\n",
    "This code block verifies the availability of data from a specified exchange and market. It uses a library called ccxt to retrieve the data and specifies the time period. If the exchange, market or time period is not available, the code will display an error message and stop the program. If the data is retrieved successfully, it is stored in a pandas data frame with the date column converted to a datetime object and set as the index."
   ]
  },
  {
   "cell_type": "code",
   "execution_count": null,
   "id": "1c0441ef",
   "metadata": {
    "tags": []
   },
   "outputs": [],
   "source": [
    "try:\n",
    "    exchange = getattr (ccxt, EXCHGE) ()\n",
    "except AttributeError:\n",
    "    print('-'*36,' ERROR ','-'*35)\n",
    "    print('Exchange \"{}\" not found. Please check the exchange is supported.'.format(EXCHGE))\n",
    "    print('-'*80)\n",
    "    quit()\n",
    " \n",
    "# Check if fetching of OHLC Data is supported\n",
    "if exchange.has[\"fetchOHLCV\"] != True:\n",
    "    print('-'*36,' ERROR ','-'*35)\n",
    "    print('{} does not support fetching OHLC data. Please use another exchange'.format(EXCHGE))\n",
    "    print('-'*80)\n",
    "    quit()\n",
    " \n",
    "# Check requested timeframe is available. If not return a helpful error.\n",
    "if (not hasattr(exchange, 'timeframes')) or (PERIOD not in exchange.timeframes):\n",
    "    print('-'*36,' ERROR ','-'*35)\n",
    "    print('The requested timeframe ({}) is not available from {}\\n'.format(PERIOD,EXCHGE))\n",
    "    print('Available timeframes are:')\n",
    "    for key in exchange.timeframes.keys():\n",
    "        print('  - ' + key)\n",
    "    print('-'*80)\n",
    "    quit()\n",
    " \n",
    "# Check if the symbol is available on the Exchange\n",
    "exchange.load_markets()\n",
    "if MARKET not in exchange.symbols:\n",
    "    print('-'*36,' ERROR ','-'*35)\n",
    "    print('The requested symbol ({}) is not available from {}\\n'.format(MARKET, EXCHGE))\n",
    "    print('Available symbols are:')\n",
    "    for key in exchange.symbols:\n",
    "        print('  - ' + key)\n",
    "    print('-'*80)\n",
    "    quit()\n",
    "\n",
    "# Get data\n",
    "data = exchange.fetch_ohlcv(MARKET, PERIOD)\n",
    "header = ['Date', 'Open', 'High', 'Low', 'Close', 'Volume']\n",
    "df = pd.DataFrame(data, columns=header)\n",
    "df.Date = pd.to_datetime(df['Date'], unit='ms')\n",
    "df.set_index('Date', inplace=True) "
   ]
  },
  {
   "cell_type": "markdown",
   "id": "4443bd2b-8f7b-4748-b064-519995899c75",
   "metadata": {},
   "source": [
    "## Add Indicators\n",
    "\n",
    "The code block uses the ta library to calculate several technical indicators based on the close prices of the crypto currency and adds these values as new columns to the dataframe. The indicators include Moving Average Convergence Divergence (MACD), Exponential Moving Average (EMA) and Simple Moving Average (SMA) of various lengths, Relative Strength Index (RSI), Chande Momentum Oscillator (CMO), Accumulation/Distribution Oscillator (ADOSC), Kaufman Adaptive Moving Average (KAMA), and Balance of Power (BOP). You can add additional indicators by using the help section above to find additional indicators and then defining them in the code below."
   ]
  },
  {
   "cell_type": "code",
   "execution_count": null,
   "id": "7d95e73b",
   "metadata": {
    "tags": []
   },
   "outputs": [],
   "source": [
    "MACD = ta.macd(close=df['Close'], window_slow = 26, window_fast = 12)\n",
    "df = pd.concat([df, MACD], axis=1).reindex(df.index)\n",
    "df['EMA24'] = ta.ema(df['Close'], length=24)\n",
    "df['SMA24'] = ta.sma(df['Close'], length=24)\n",
    "df['EMA48'] = ta.ema(df['Close'], length=48)\n",
    "df['SMA48'] = ta.sma(df['Close'], length=48)\n",
    "df['EMA200'] = ta.ema(df['Close'], length=200)\n",
    "df['SMA200'] = ta.sma(df['Close'], length=200)\n",
    "df['RSI-21'] = ta.rsi(close=df['Close'], length=21)\n",
    "df['RSI-14'] = ta.rsi(close=df['Close'], length=14)\n",
    "df['RSI-9'] = ta.rsi(close=df['Close'], length=9)\n",
    "df['RSI-6'] = ta.rsi(close=df['Close'], length=6)\n",
    "df['CMO-6'] = ta.cmo(close=df['Close'], length=6, talib = False)\n",
    "df['CMO-9'] = ta.cmo(close=df['Close'], length=9, talib = False)\n",
    "df['CMO-14'] = ta.cmo(close=df['Close'], length=14, talib = False)\n",
    "df['CMO-21'] = ta.cmo(close=df['Close'], length=21, talib = False)\n",
    "df['ADOSC'] = ta.adosc(high=df['High'], low=df['Low'], close=df['Close'], volume=df['Volume'], fastperiod=6, slowperiod=20)\n",
    "df['KAMA'] = ta.kama(close=df['Close'])\n",
    "df['BOP'] = ta.bop(open_=df['Open'], high=df['High'], low=df['Low'], close=df['Close'])"
   ]
  },
  {
   "cell_type": "markdown",
   "id": "bd0fec42-c2b3-4679-8d79-0e5d465e1622",
   "metadata": {},
   "source": [
    "## Display Indicators and Graphs\n",
    "\n",
    "This code creates a visualization for the columns of a dataframe in Python. The visualization is created using the matplotlib library and the style of the plot is set to '_classic_test_patch'. The visualization consists of multiple subplots, where the number of subplots is determined by the number of columns in the dataframe, and each subplot shows a plot of a column of the dataframe. The title and y-axis label of each subplot is set to the name of the column it is plotting. Finally, the visualization is displayed using the 'plt.show()' function."
   ]
  },
  {
   "cell_type": "code",
   "execution_count": null,
   "id": "179740d8-3dbb-4b09-b289-1af9a77c4fa5",
   "metadata": {},
   "outputs": [],
   "source": [
    "plt.style.use('_classic_test_patch')\n",
    "\n",
    "fig, axs = plt.subplots(math.ceil(df.shape[1]/3), 3, sharex=True, figsize=(25, 45))\n",
    "\n",
    "axs = axs.flatten()\n",
    "\n",
    "for i, (col, ax) in enumerate(zip(df.columns, axs)):\n",
    "    df[col].plot(ax=ax)\n",
    "    ax.set_title(col)\n",
    "    ax.set_ylabel(col)\n",
    "\n",
    "\n",
    "plt.tight_layout()\n",
    "plt.show()"
   ]
  },
  {
   "cell_type": "markdown",
   "id": "d8fa8401-76df-4e8c-900a-07848d354e1c",
   "metadata": {},
   "source": [
    "## Find Trades\n",
    "\n",
    "The code initializes several columns in the data frame df with the names \"Buy Signal\", \"Sell Signal\", \"Buy Price\", \"Sell Price\", and \"Trade Value\". Then, it calculates buy and sell signals for a trading strategy based on a few technical indicators. The code uses these indicators to determine whether to open a trade (buy signal) or close a trade (sell signal). The code also keeps track of the buy and sell prices, and the profit/loss of each trade. The code sets different conditions for opening and closing trades such as reaching a certain profit target, reaching a loss target, having a trade open for too long, or selling at an optimal time based on market conditions.\n",
    "\n"
   ]
  },
  {
   "cell_type": "code",
   "execution_count": null,
   "id": "bb80ac5c",
   "metadata": {},
   "outputs": [],
   "source": [
    "## Initialize the columns that we need\n",
    "df['Buy Signal'] = np.nan\n",
    "df['Sell Signal'] = np.nan\n",
    "df['Buy Price'] = np.nan\n",
    "df['Sell Price'] = np.nan\n",
    "df['Trade Value'] = np.nan\n",
    "\n",
    "## Calculate the buy & sell signals\n",
    "open_trade=False\n",
    "buy=0\n",
    "count=0\n",
    "\n",
    "for x in range(24, len(df)):\n",
    "    if open_trade and df['Buy Signal'][x-1] == 1:\n",
    "        df['Buy Price'][x] = df['Open'][x]\n",
    "        buy = float(df['Open'][x])\n",
    "        count=0\n",
    "        profit_target = (float(1.0) + profit_percent) * float(buy)\n",
    "        loss_target = (float(1.0) - loss_percent) * float(buy)\n",
    "        print(\"Trade Opened @ \"+str(buy))\n",
    "    elif (open_trade != True) and df['Sell Signal'][x-1] == 1:\n",
    "        df['Sell Price'][x] = df['Open'][x]\n",
    "        df['Trade Value'][x] = float(df['Open'][x]) - buy\n",
    "        print(\"Buy: \"+str(buy)+\" Sell: \"+str(df['Sell Price'][x])+ \" Trade P/L: \"+str(df['Trade Value'][x]))\n",
    "    elif (open_trade != True) and float(df['KAMA'][x]) >= float(df['KAMA'][x-2]) and float(df['KAMA'][x]) < float(df['Close'][x]) and ( float(df['RSI-14'][x-1]) < rsi_min or float(df['RSI-14'][x-2]) < rsi_min or float(df['RSI-14'][x-3]) < rsi_min or float(df['RSI-14'][x-4]) < rsi_min) and float(df['MACDh_12_26_9'][x]) > 0:\n",
    "        df['Buy Signal'][x] = 1\n",
    "        open_trade=True\n",
    "        count=0\n",
    "    # Profit Take    \n",
    "    elif (open_trade == True) and (df['Close'][x] >= profit_target) and count > 0:\n",
    "        df['Sell Signal'][x] = 1\n",
    "        open_trade=False\n",
    "        print(\"Profit Take\")\n",
    "    elif (open_trade == True) and (df['Close'][x] <= loss_target) and count > 0:\n",
    "        df['Sell Signal'][x] = 1\n",
    "        open_trade=False\n",
    "        print(\"Loss Management\")\n",
    "    elif (open_trade == True) and (count >= max_count) and count > 0:\n",
    "        df['Sell Signal'][x] = 1\n",
    "        open_trade=False\n",
    "        print(\"Trade Open Too Long\")\n",
    "    elif (open_trade == True) and float(df['Close'][x]) <= float(df['Close'][x-1]) and buy < float(df['Close'][x]) and count > 5:\n",
    "        df['Sell Signal'][x] = 1\n",
    "        open_trade=False\n",
    "        print(\"Optimal Sale\")\n",
    "    count = count + 1"
   ]
  },
  {
   "cell_type": "markdown",
   "id": "6cda950c-2fdc-4815-a3e3-8fdadac6995a",
   "metadata": {},
   "source": [
    "## Graph The Trades\n",
    "\n",
    "This code creates a graph that displays the crypto currencies closing price, marked by the \"Close\" column, and the prices for buying and selling the crypto, marked by the \"Buy Price\" and \"Sell Price\" columns, respectively. Green upward-pointing triangles will show the \"Buy Price\" and red downward-pointing triangles will show the \"Sell Price\". "
   ]
  },
  {
   "cell_type": "code",
   "execution_count": null,
   "id": "29149859-6b65-49c8-a0aa-c45b39273a91",
   "metadata": {},
   "outputs": [],
   "source": [
    "## Chart the buy/sell signals:\n",
    "plt.style.use('_classic_test_patch')\n",
    "fig, ax = plt.subplots(sharex=True, figsize=(25,15))\n",
    "## Chart the stock close price & buy/sell signals:\n",
    "ax.scatter(df.index, df['Buy Price'],  color = 'green',  marker = '^', alpha = 1)\n",
    "ax.scatter(df.index, df['Sell Price'],  color = 'red',  marker = 'v', alpha = 1)\n",
    "ax.plot(df['Close'], alpha = 0.8)\n",
    "ax.grid()"
   ]
  }
 ],
 "metadata": {
  "kernelspec": {
   "display_name": "Python 3 (ipykernel)",
   "language": "python",
   "name": "python3"
  },
  "language_info": {
   "codemirror_mode": {
    "name": "ipython",
    "version": 3
   },
   "file_extension": ".py",
   "mimetype": "text/x-python",
   "name": "python",
   "nbconvert_exporter": "python",
   "pygments_lexer": "ipython3",
   "version": "3.10.5"
  }
 },
 "nbformat": 4,
 "nbformat_minor": 5
}
